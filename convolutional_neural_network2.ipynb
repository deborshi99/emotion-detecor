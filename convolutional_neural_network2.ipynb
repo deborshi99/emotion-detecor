{
  "nbformat": 4,
  "nbformat_minor": 0,
  "metadata": {
    "colab": {
      "name": "convolutional_neural_network.ipynb",
      "provenance": [],
      "collapsed_sections": [],
      "toc_visible": true
    },
    "kernelspec": {
      "name": "python3",
      "display_name": "Python 3.8.6 64-bit",
      "metadata": {
        "interpreter": {
          "hash": "b78fce236b8ac2129f08c36a2f67efe239b5ef68691a6cd434d9cccc2e6a735c"
        }
      }
    }
  },
  "cells": [
    {
      "cell_type": "markdown",
      "metadata": {
        "id": "3DR-eO17geWu",
        "colab_type": "text"
      },
      "source": [
        "# emotion detector"
      ]
    },
    {
      "cell_type": "markdown",
      "metadata": {
        "id": "EMefrVPCg-60",
        "colab_type": "text"
      },
      "source": [
        "### Importing the libraries"
      ]
    },
    {
      "cell_type": "code",
      "metadata": {
        "id": "sCV30xyVhFbE",
        "colab_type": "code",
        "colab": {}
      },
      "source": [
        "import tensorflow as tf\n",
        "from keras.preprocessing.image import ImageDataGenerator"
      ],
      "execution_count": 1,
      "outputs": []
    },
    {
      "cell_type": "code",
      "metadata": {
        "id": "FIleuCAjoFD8",
        "colab_type": "code",
        "colab": {}
      },
      "source": [
        "tf.__version__"
      ],
      "execution_count": 2,
      "outputs": [
        {
          "output_type": "execute_result",
          "data": {
            "text/plain": [
              "'2.3.1'"
            ]
          },
          "metadata": {},
          "execution_count": 2
        }
      ]
    },
    {
      "cell_type": "markdown",
      "metadata": {
        "id": "oxQxCBWyoGPE",
        "colab_type": "text"
      },
      "source": [
        "## Part 1 - Data Preprocessing"
      ]
    },
    {
      "cell_type": "markdown",
      "metadata": {
        "id": "MvE-heJNo3GG",
        "colab_type": "text"
      },
      "source": [
        "### Preprocessing the Training set"
      ]
    },
    {
      "cell_type": "code",
      "metadata": {
        "id": "0koUcJMJpEBD",
        "colab_type": "code",
        "colab": {}
      },
      "source": [
        "train_datagen = ImageDataGenerator(rescale = 1./255,\n",
        "                                   shear_range = 0.2,\n",
        "                                   zoom_range = 0.2,\n",
        "                                   horizontal_flip = True)\n",
        "training_set = train_datagen.flow_from_directory('dataset3/train',\n",
        "                                                 target_size = (48, 48),\n",
        "                                                 batch_size = 32,\n",
        "                                                 class_mode = 'categorical')"
      ],
      "execution_count": 3,
      "outputs": [
        {
          "output_type": "stream",
          "name": "stdout",
          "text": [
            "Found 17084 images belonging to 3 classes.\n"
          ]
        }
      ]
    },
    {
      "cell_type": "markdown",
      "metadata": {
        "id": "mrCMmGw9pHys",
        "colab_type": "text"
      },
      "source": [
        "### Preprocessing the Test set"
      ]
    },
    {
      "cell_type": "code",
      "metadata": {
        "id": "SH4WzfOhpKc3",
        "colab_type": "code",
        "colab": {}
      },
      "source": [
        "test_datagen = ImageDataGenerator(rescale = 1./255)\n",
        "test_set = test_datagen.flow_from_directory('dataset3/validation',\n",
        "                                            target_size = (48, 48),\n",
        "                                            batch_size = 32,\n",
        "                                            class_mode = 'categorical')"
      ],
      "execution_count": 4,
      "outputs": [
        {
          "output_type": "stream",
          "name": "stdout",
          "text": [
            "Found 4180 images belonging to 3 classes.\n"
          ]
        }
      ]
    },
    {
      "cell_type": "markdown",
      "metadata": {
        "id": "af8O4l90gk7B",
        "colab_type": "text"
      },
      "source": [
        "## Part 2 - Building the CNN"
      ]
    },
    {
      "cell_type": "markdown",
      "metadata": {
        "id": "ces1gXY2lmoX",
        "colab_type": "text"
      },
      "source": [
        "### Initialising the CNN"
      ]
    },
    {
      "cell_type": "code",
      "metadata": {
        "id": "SAUt4UMPlhLS",
        "colab_type": "code",
        "colab": {}
      },
      "source": [
        "cnn = tf.keras.models.Sequential()"
      ],
      "execution_count": 5,
      "outputs": []
    },
    {
      "cell_type": "markdown",
      "metadata": {
        "id": "u5YJj_XMl5LF",
        "colab_type": "text"
      },
      "source": [
        "### Step 1 - Convolution"
      ]
    },
    {
      "cell_type": "code",
      "metadata": {
        "id": "XPzPrMckl-hV",
        "colab_type": "code",
        "colab": {}
      },
      "source": [
        "cnn.add(tf.keras.layers.Conv2D(filters=32, kernel_size=3, activation='relu', input_shape=[48, 48, 3]))"
      ],
      "execution_count": 6,
      "outputs": []
    },
    {
      "cell_type": "markdown",
      "metadata": {
        "id": "tf87FpvxmNOJ",
        "colab_type": "text"
      },
      "source": [
        "### Step 2 - Pooling"
      ]
    },
    {
      "cell_type": "code",
      "metadata": {
        "id": "ncpqPl69mOac",
        "colab_type": "code",
        "colab": {}
      },
      "source": [
        "cnn.add(tf.keras.layers.MaxPool2D(pool_size=2, strides=2))"
      ],
      "execution_count": 7,
      "outputs": []
    },
    {
      "cell_type": "markdown",
      "metadata": {
        "id": "xaTOgD8rm4mU",
        "colab_type": "text"
      },
      "source": [
        "### Adding a second convolutional layer"
      ]
    },
    {
      "cell_type": "code",
      "metadata": {
        "id": "i_-FZjn_m8gk",
        "colab_type": "code",
        "colab": {}
      },
      "source": [
        "cnn.add(tf.keras.layers.Conv2D(filters=32, kernel_size=3, activation='relu'))\n",
        "cnn.add(tf.keras.layers.MaxPool2D(pool_size=2, strides=2))"
      ],
      "execution_count": 8,
      "outputs": []
    },
    {
      "source": [
        "### Adding a third convolutional Layer"
      ],
      "cell_type": "markdown",
      "metadata": {}
    },
    {
      "cell_type": "code",
      "execution_count": 9,
      "metadata": {},
      "outputs": [],
      "source": [
        "cnn.add(tf.keras.layers.Conv2D(filters=32, kernel_size=3, activation='relu'))\n",
        "cnn.add(tf.keras.layers.MaxPool2D(pool_size=2, strides=2))"
      ]
    },
    {
      "cell_type": "markdown",
      "metadata": {
        "id": "tmiEuvTunKfk",
        "colab_type": "text"
      },
      "source": [
        "### Step 3 - Flattening"
      ]
    },
    {
      "cell_type": "code",
      "metadata": {
        "id": "6AZeOGCvnNZn",
        "colab_type": "code",
        "colab": {}
      },
      "source": [
        "cnn.add(tf.keras.layers.Flatten())"
      ],
      "execution_count": 10,
      "outputs": []
    },
    {
      "cell_type": "markdown",
      "metadata": {
        "id": "dAoSECOm203v",
        "colab_type": "text"
      },
      "source": [
        "### Step 4 - Full Connection"
      ]
    },
    {
      "cell_type": "code",
      "metadata": {
        "id": "8GtmUlLd26Nq",
        "colab_type": "code",
        "colab": {}
      },
      "source": [
        "cnn.add(tf.keras.layers.Dense(units=128, activation='relu'))"
      ],
      "execution_count": 11,
      "outputs": []
    },
    {
      "cell_type": "markdown",
      "metadata": {
        "id": "yTldFvbX28Na",
        "colab_type": "text"
      },
      "source": [
        "### Step 5 - Output Layer"
      ]
    },
    {
      "cell_type": "code",
      "metadata": {
        "id": "1p_Zj1Mc3Ko_",
        "colab_type": "code",
        "colab": {}
      },
      "source": [
        "cnn.add(tf.keras.layers.Dense(units=3, activation='softmax'))"
      ],
      "execution_count": 12,
      "outputs": []
    },
    {
      "cell_type": "markdown",
      "metadata": {
        "id": "D6XkI90snSDl",
        "colab_type": "text"
      },
      "source": [
        "## Part 3 - Training the CNN"
      ]
    },
    {
      "cell_type": "markdown",
      "metadata": {
        "id": "vfrFQACEnc6i",
        "colab_type": "text"
      },
      "source": [
        "### Compiling the CNN"
      ]
    },
    {
      "cell_type": "code",
      "metadata": {
        "id": "NALksrNQpUlJ",
        "colab_type": "code",
        "colab": {}
      },
      "source": [
        "from keras.optimizers import SGD\n",
        "opt = SGD(lr=0.01, momentum=0.9)\n",
        "cnn.compile(optimizer = opt, loss = 'categorical_crossentropy', metrics = ['accuracy'])"
      ],
      "execution_count": 13,
      "outputs": []
    },
    {
      "cell_type": "markdown",
      "metadata": {
        "id": "ehS-v3MIpX2h",
        "colab_type": "text"
      },
      "source": [
        "### Training the CNN on the Training set and evaluating it on the Test set"
      ]
    },
    {
      "cell_type": "code",
      "metadata": {
        "id": "XUj1W4PJptta",
        "colab_type": "code",
        "colab": {}
      },
      "source": [
        "history = cnn.fit(x = training_set, validation_data = test_set, epochs = 100)"
      ],
      "execution_count": 14,
      "outputs": [
        {
          "output_type": "stream",
          "name": "stdout",
          "text": [
            "Epoch 1/100\n",
            "534/534 [==============================] - 179s 335ms/step - loss: 1.0523 - accuracy: 0.4517 - val_loss: 0.9646 - val_accuracy: 0.5311\n",
            "Epoch 2/100\n",
            "534/534 [==============================] - 38s 71ms/step - loss: 0.9348 - accuracy: 0.5532 - val_loss: 0.8521 - val_accuracy: 0.6007\n",
            "Epoch 3/100\n",
            "534/534 [==============================] - 39s 72ms/step - loss: 0.8714 - accuracy: 0.5896 - val_loss: 0.7975 - val_accuracy: 0.6349\n",
            "Epoch 4/100\n",
            "534/534 [==============================] - 38s 71ms/step - loss: 0.8343 - accuracy: 0.6019 - val_loss: 0.7556 - val_accuracy: 0.6560\n",
            "Epoch 5/100\n",
            "534/534 [==============================] - 38s 71ms/step - loss: 0.7936 - accuracy: 0.6287 - val_loss: 0.7415 - val_accuracy: 0.6581\n",
            "Epoch 6/100\n",
            "534/534 [==============================] - 38s 70ms/step - loss: 0.7662 - accuracy: 0.6431 - val_loss: 0.7144 - val_accuracy: 0.6742\n",
            "Epoch 7/100\n",
            "534/534 [==============================] - 37s 70ms/step - loss: 0.7452 - accuracy: 0.6546 - val_loss: 0.7400 - val_accuracy: 0.6720\n",
            "Epoch 8/100\n",
            "534/534 [==============================] - 38s 70ms/step - loss: 0.7291 - accuracy: 0.6683 - val_loss: 0.6971 - val_accuracy: 0.6952\n",
            "Epoch 9/100\n",
            "534/534 [==============================] - 37s 70ms/step - loss: 0.7140 - accuracy: 0.6765 - val_loss: 0.6747 - val_accuracy: 0.7077\n",
            "Epoch 10/100\n",
            "534/534 [==============================] - 37s 70ms/step - loss: 0.6960 - accuracy: 0.6865 - val_loss: 0.6686 - val_accuracy: 0.7141\n",
            "Epoch 11/100\n",
            "534/534 [==============================] - 37s 70ms/step - loss: 0.6848 - accuracy: 0.6912 - val_loss: 0.6553 - val_accuracy: 0.7144\n",
            "Epoch 12/100\n",
            "534/534 [==============================] - 37s 69ms/step - loss: 0.6732 - accuracy: 0.6997 - val_loss: 0.6449 - val_accuracy: 0.7220\n",
            "Epoch 13/100\n",
            "534/534 [==============================] - 33s 62ms/step - loss: 0.6611 - accuracy: 0.7050 - val_loss: 0.6655 - val_accuracy: 0.7122\n",
            "Epoch 14/100\n",
            "534/534 [==============================] - 32s 61ms/step - loss: 0.6501 - accuracy: 0.7080 - val_loss: 0.6672 - val_accuracy: 0.7077\n",
            "Epoch 15/100\n",
            "534/534 [==============================] - 33s 61ms/step - loss: 0.6455 - accuracy: 0.7098 - val_loss: 0.6706 - val_accuracy: 0.7117\n",
            "Epoch 16/100\n",
            "534/534 [==============================] - 33s 61ms/step - loss: 0.6407 - accuracy: 0.7183 - val_loss: 0.6362 - val_accuracy: 0.7292\n",
            "Epoch 17/100\n",
            "534/534 [==============================] - 33s 61ms/step - loss: 0.6270 - accuracy: 0.7217 - val_loss: 0.6866 - val_accuracy: 0.7005\n",
            "Epoch 18/100\n",
            "534/534 [==============================] - 33s 61ms/step - loss: 0.6221 - accuracy: 0.7244 - val_loss: 0.6276 - val_accuracy: 0.7409\n",
            "Epoch 19/100\n",
            "534/534 [==============================] - 33s 61ms/step - loss: 0.6129 - accuracy: 0.7320 - val_loss: 0.6364 - val_accuracy: 0.7352\n",
            "Epoch 20/100\n",
            "534/534 [==============================] - 33s 61ms/step - loss: 0.6077 - accuracy: 0.7332 - val_loss: 0.6537 - val_accuracy: 0.7251\n",
            "Epoch 21/100\n",
            "534/534 [==============================] - 33s 61ms/step - loss: 0.5989 - accuracy: 0.7376 - val_loss: 0.6769 - val_accuracy: 0.7129\n",
            "Epoch 22/100\n",
            "534/534 [==============================] - 33s 62ms/step - loss: 0.5974 - accuracy: 0.7386 - val_loss: 0.6429 - val_accuracy: 0.7328\n",
            "Epoch 23/100\n",
            "534/534 [==============================] - 33s 62ms/step - loss: 0.5881 - accuracy: 0.7447 - val_loss: 0.6272 - val_accuracy: 0.7361\n",
            "Epoch 24/100\n",
            "534/534 [==============================] - 33s 62ms/step - loss: 0.5831 - accuracy: 0.7467 - val_loss: 0.6564 - val_accuracy: 0.7239\n",
            "Epoch 25/100\n",
            "534/534 [==============================] - 38s 71ms/step - loss: 0.5826 - accuracy: 0.7457 - val_loss: 0.6390 - val_accuracy: 0.7407\n",
            "Epoch 26/100\n",
            "534/534 [==============================] - 35s 66ms/step - loss: 0.5794 - accuracy: 0.7477 - val_loss: 0.6448 - val_accuracy: 0.7321\n",
            "Epoch 27/100\n",
            "534/534 [==============================] - 36s 67ms/step - loss: 0.5768 - accuracy: 0.7557 - val_loss: 0.6466 - val_accuracy: 0.7234\n",
            "Epoch 28/100\n",
            "534/534 [==============================] - 34s 64ms/step - loss: 0.5685 - accuracy: 0.7542 - val_loss: 0.6438 - val_accuracy: 0.7249\n",
            "Epoch 29/100\n",
            "534/534 [==============================] - 36s 67ms/step - loss: 0.5617 - accuracy: 0.7608 - val_loss: 0.6561 - val_accuracy: 0.7263\n",
            "Epoch 30/100\n",
            "534/534 [==============================] - 34s 64ms/step - loss: 0.5555 - accuracy: 0.7650 - val_loss: 0.6890 - val_accuracy: 0.7098\n",
            "Epoch 31/100\n",
            "534/534 [==============================] - 35s 66ms/step - loss: 0.5526 - accuracy: 0.7625 - val_loss: 0.6563 - val_accuracy: 0.7234\n",
            "Epoch 32/100\n",
            "534/534 [==============================] - 34s 63ms/step - loss: 0.5462 - accuracy: 0.7673 - val_loss: 0.6335 - val_accuracy: 0.7318\n",
            "Epoch 33/100\n",
            "534/534 [==============================] - 34s 64ms/step - loss: 0.5367 - accuracy: 0.7714 - val_loss: 0.6607 - val_accuracy: 0.7309\n",
            "Epoch 34/100\n",
            "534/534 [==============================] - 34s 63ms/step - loss: 0.5398 - accuracy: 0.7695 - val_loss: 0.6412 - val_accuracy: 0.7313\n",
            "Epoch 35/100\n",
            "534/534 [==============================] - 34s 64ms/step - loss: 0.5488 - accuracy: 0.7677 - val_loss: 0.6467 - val_accuracy: 0.7459\n",
            "Epoch 36/100\n",
            "534/534 [==============================] - 34s 64ms/step - loss: 0.5303 - accuracy: 0.7742 - val_loss: 0.6279 - val_accuracy: 0.7447\n",
            "Epoch 37/100\n",
            "534/534 [==============================] - 34s 63ms/step - loss: 0.5333 - accuracy: 0.7752 - val_loss: 0.6527 - val_accuracy: 0.7340\n",
            "Epoch 38/100\n",
            "534/534 [==============================] - 35s 65ms/step - loss: 0.5262 - accuracy: 0.7775 - val_loss: 0.6681 - val_accuracy: 0.7400\n",
            "Epoch 39/100\n",
            "534/534 [==============================] - 34s 63ms/step - loss: 0.5270 - accuracy: 0.7738 - val_loss: 0.6633 - val_accuracy: 0.7385\n",
            "Epoch 40/100\n",
            "534/534 [==============================] - 34s 64ms/step - loss: 0.5207 - accuracy: 0.7755 - val_loss: 0.6721 - val_accuracy: 0.7266\n",
            "Epoch 41/100\n",
            "534/534 [==============================] - 34s 63ms/step - loss: 0.5109 - accuracy: 0.7841 - val_loss: 0.6427 - val_accuracy: 0.7445\n",
            "Epoch 42/100\n",
            "534/534 [==============================] - 34s 63ms/step - loss: 0.5075 - accuracy: 0.7851 - val_loss: 0.6718 - val_accuracy: 0.7414\n",
            "Epoch 43/100\n",
            "534/534 [==============================] - 34s 63ms/step - loss: 0.5052 - accuracy: 0.7890 - val_loss: 0.6780 - val_accuracy: 0.7342\n",
            "Epoch 44/100\n",
            "534/534 [==============================] - 34s 63ms/step - loss: 0.5042 - accuracy: 0.7860 - val_loss: 0.6732 - val_accuracy: 0.7383\n",
            "Epoch 45/100\n",
            "534/534 [==============================] - 36s 67ms/step - loss: 0.4986 - accuracy: 0.7919 - val_loss: 0.6869 - val_accuracy: 0.7390\n",
            "Epoch 46/100\n",
            "534/534 [==============================] - 41s 78ms/step - loss: 0.5033 - accuracy: 0.7910 - val_loss: 0.6792 - val_accuracy: 0.7263\n",
            "Epoch 47/100\n",
            "534/534 [==============================] - 39s 74ms/step - loss: 0.4953 - accuracy: 0.7914 - val_loss: 0.6751 - val_accuracy: 0.7323\n",
            "Epoch 48/100\n",
            "534/534 [==============================] - 41s 77ms/step - loss: 0.4938 - accuracy: 0.7895 - val_loss: 0.6935 - val_accuracy: 0.7278\n",
            "Epoch 49/100\n",
            "534/534 [==============================] - 36s 68ms/step - loss: 0.4804 - accuracy: 0.7991 - val_loss: 0.7136 - val_accuracy: 0.7287\n",
            "Epoch 50/100\n",
            "534/534 [==============================] - 42s 78ms/step - loss: 0.4832 - accuracy: 0.7977 - val_loss: 0.6918 - val_accuracy: 0.7352\n",
            "Epoch 51/100\n",
            "534/534 [==============================] - 42s 78ms/step - loss: 0.4868 - accuracy: 0.7924 - val_loss: 0.6780 - val_accuracy: 0.7254\n",
            "Epoch 52/100\n",
            "534/534 [==============================] - 38s 71ms/step - loss: 0.4871 - accuracy: 0.7972 - val_loss: 0.7218 - val_accuracy: 0.7239\n",
            "Epoch 53/100\n",
            "534/534 [==============================] - 38s 72ms/step - loss: 0.4701 - accuracy: 0.8006 - val_loss: 0.7006 - val_accuracy: 0.7376\n",
            "Epoch 54/100\n",
            "534/534 [==============================] - 40s 75ms/step - loss: 0.4776 - accuracy: 0.8006 - val_loss: 0.7134 - val_accuracy: 0.7359\n",
            "Epoch 55/100\n",
            "534/534 [==============================] - 40s 74ms/step - loss: 0.4708 - accuracy: 0.8036 - val_loss: 0.6876 - val_accuracy: 0.7220\n",
            "Epoch 56/100\n",
            "534/534 [==============================] - 40s 74ms/step - loss: 0.4734 - accuracy: 0.8035 - val_loss: 0.6885 - val_accuracy: 0.7359\n",
            "Epoch 57/100\n",
            "534/534 [==============================] - 39s 74ms/step - loss: 0.4660 - accuracy: 0.8081 - val_loss: 0.7625 - val_accuracy: 0.7215\n",
            "Epoch 58/100\n",
            "534/534 [==============================] - 97s 182ms/step - loss: 0.4760 - accuracy: 0.8034 - val_loss: 0.7311 - val_accuracy: 0.7323\n",
            "Epoch 59/100\n",
            "534/534 [==============================] - 50s 94ms/step - loss: 0.4711 - accuracy: 0.8058 - val_loss: 0.7402 - val_accuracy: 0.7347\n",
            "Epoch 60/100\n",
            "534/534 [==============================] - 40s 75ms/step - loss: 0.4690 - accuracy: 0.8071 - val_loss: 0.6972 - val_accuracy: 0.7316\n",
            "Epoch 61/100\n",
            "534/534 [==============================] - 41s 76ms/step - loss: 0.4571 - accuracy: 0.8094 - val_loss: 0.7140 - val_accuracy: 0.7333\n",
            "Epoch 62/100\n",
            "534/534 [==============================] - 40s 75ms/step - loss: 0.4558 - accuracy: 0.8119 - val_loss: 0.7573 - val_accuracy: 0.7230\n",
            "Epoch 63/100\n",
            "534/534 [==============================] - 40s 76ms/step - loss: 0.4487 - accuracy: 0.8146 - val_loss: 0.7397 - val_accuracy: 0.7325\n",
            "Epoch 64/100\n",
            "534/534 [==============================] - 42s 78ms/step - loss: 0.4559 - accuracy: 0.8095 - val_loss: 0.7324 - val_accuracy: 0.7311\n",
            "Epoch 65/100\n",
            "534/534 [==============================] - 42s 78ms/step - loss: 0.4443 - accuracy: 0.8159 - val_loss: 0.7536 - val_accuracy: 0.7289\n",
            "Epoch 66/100\n",
            "534/534 [==============================] - 41s 77ms/step - loss: 0.4554 - accuracy: 0.8144 - val_loss: 0.7362 - val_accuracy: 0.7280\n",
            "Epoch 67/100\n",
            "534/534 [==============================] - 41s 76ms/step - loss: 0.4515 - accuracy: 0.8136 - val_loss: 0.7181 - val_accuracy: 0.7371\n",
            "Epoch 68/100\n",
            "534/534 [==============================] - 40s 75ms/step - loss: 0.4516 - accuracy: 0.8128 - val_loss: 0.7318 - val_accuracy: 0.7230\n",
            "Epoch 69/100\n",
            "534/534 [==============================] - 42s 79ms/step - loss: 0.4441 - accuracy: 0.8154 - val_loss: 0.7336 - val_accuracy: 0.7230\n",
            "Epoch 70/100\n",
            "534/534 [==============================] - 52s 98ms/step - loss: 0.4360 - accuracy: 0.8228 - val_loss: 0.7412 - val_accuracy: 0.7263\n",
            "Epoch 71/100\n",
            "534/534 [==============================] - 53s 99ms/step - loss: 0.4296 - accuracy: 0.8243 - val_loss: 0.7319 - val_accuracy: 0.7378\n",
            "Epoch 72/100\n",
            "534/534 [==============================] - 54s 101ms/step - loss: 0.4330 - accuracy: 0.8226 - val_loss: 0.8144 - val_accuracy: 0.7278\n",
            "Epoch 73/100\n",
            "534/534 [==============================] - 45s 85ms/step - loss: 0.4422 - accuracy: 0.8185 - val_loss: 0.8042 - val_accuracy: 0.7275\n",
            "Epoch 74/100\n",
            "534/534 [==============================] - 46s 86ms/step - loss: 0.4370 - accuracy: 0.8208 - val_loss: 0.7399 - val_accuracy: 0.7268\n",
            "Epoch 75/100\n",
            "534/534 [==============================] - 47s 88ms/step - loss: 0.4307 - accuracy: 0.8217 - val_loss: 0.7840 - val_accuracy: 0.7313\n",
            "Epoch 76/100\n",
            "534/534 [==============================] - 46s 87ms/step - loss: 0.4352 - accuracy: 0.8191 - val_loss: 0.7313 - val_accuracy: 0.7196\n",
            "Epoch 77/100\n",
            "534/534 [==============================] - 41s 77ms/step - loss: 0.4336 - accuracy: 0.8192 - val_loss: 0.7337 - val_accuracy: 0.7364\n",
            "Epoch 78/100\n",
            "534/534 [==============================] - 40s 75ms/step - loss: 0.4381 - accuracy: 0.8209 - val_loss: 0.7400 - val_accuracy: 0.7356\n",
            "Epoch 79/100\n",
            "534/534 [==============================] - 43s 81ms/step - loss: 0.4288 - accuracy: 0.8266 - val_loss: 0.7652 - val_accuracy: 0.7297\n",
            "Epoch 80/100\n",
            "534/534 [==============================] - 54s 101ms/step - loss: 0.4352 - accuracy: 0.8192 - val_loss: 0.7976 - val_accuracy: 0.7337\n",
            "Epoch 81/100\n",
            "534/534 [==============================] - 50s 94ms/step - loss: 0.4309 - accuracy: 0.8249 - val_loss: 0.7881 - val_accuracy: 0.7349\n",
            "Epoch 82/100\n",
            "534/534 [==============================] - 51s 95ms/step - loss: 0.4181 - accuracy: 0.8307 - val_loss: 0.7807 - val_accuracy: 0.7266\n",
            "Epoch 83/100\n",
            "534/534 [==============================] - 46s 85ms/step - loss: 0.4283 - accuracy: 0.8284 - val_loss: 0.7292 - val_accuracy: 0.7340\n",
            "Epoch 84/100\n",
            "534/534 [==============================] - 47s 89ms/step - loss: 0.4240 - accuracy: 0.8269 - val_loss: 0.7946 - val_accuracy: 0.7266\n",
            "Epoch 85/100\n",
            "534/534 [==============================] - 46s 86ms/step - loss: 0.4224 - accuracy: 0.8256 - val_loss: 0.8023 - val_accuracy: 0.7251\n",
            "Epoch 86/100\n",
            "534/534 [==============================] - 54s 101ms/step - loss: 0.4245 - accuracy: 0.8260 - val_loss: 0.7942 - val_accuracy: 0.7304\n",
            "Epoch 87/100\n",
            "534/534 [==============================] - 47s 88ms/step - loss: 0.4189 - accuracy: 0.8271 - val_loss: 0.7782 - val_accuracy: 0.7328\n",
            "Epoch 88/100\n",
            "534/534 [==============================] - 49s 92ms/step - loss: 0.4083 - accuracy: 0.8361 - val_loss: 0.7935 - val_accuracy: 0.7237\n",
            "Epoch 89/100\n",
            "534/534 [==============================] - 46s 86ms/step - loss: 0.4143 - accuracy: 0.8314 - val_loss: 0.7803 - val_accuracy: 0.7313\n",
            "Epoch 90/100\n",
            "534/534 [==============================] - 40s 76ms/step - loss: 0.4209 - accuracy: 0.8284 - val_loss: 0.8085 - val_accuracy: 0.7144\n",
            "Epoch 91/100\n",
            "534/534 [==============================] - 45s 84ms/step - loss: 0.4114 - accuracy: 0.8358 - val_loss: 0.8005 - val_accuracy: 0.7225\n",
            "Epoch 92/100\n",
            "534/534 [==============================] - 41s 77ms/step - loss: 0.4123 - accuracy: 0.8344 - val_loss: 0.8094 - val_accuracy: 0.7129\n",
            "Epoch 93/100\n",
            "534/534 [==============================] - 41s 76ms/step - loss: 0.4172 - accuracy: 0.8278 - val_loss: 0.8001 - val_accuracy: 0.7222\n",
            "Epoch 94/100\n",
            "534/534 [==============================] - 41s 76ms/step - loss: 0.4094 - accuracy: 0.8304 - val_loss: 0.8498 - val_accuracy: 0.7175\n",
            "Epoch 95/100\n",
            "534/534 [==============================] - 47s 88ms/step - loss: 0.4178 - accuracy: 0.8315 - val_loss: 0.8136 - val_accuracy: 0.7316\n",
            "Epoch 96/100\n",
            "534/534 [==============================] - 48s 89ms/step - loss: 0.4138 - accuracy: 0.8315 - val_loss: 0.8285 - val_accuracy: 0.7222\n",
            "Epoch 97/100\n",
            "534/534 [==============================] - 42s 78ms/step - loss: 0.4022 - accuracy: 0.8344 - val_loss: 0.8473 - val_accuracy: 0.7160\n",
            "Epoch 98/100\n",
            "534/534 [==============================] - 42s 78ms/step - loss: 0.4108 - accuracy: 0.8356 - val_loss: 0.8505 - val_accuracy: 0.7311\n",
            "Epoch 99/100\n",
            "534/534 [==============================] - 41s 76ms/step - loss: 0.4130 - accuracy: 0.8326 - val_loss: 0.8043 - val_accuracy: 0.7263\n",
            "Epoch 100/100\n",
            "534/534 [==============================] - 41s 78ms/step - loss: 0.4005 - accuracy: 0.8382 - val_loss: 0.8479 - val_accuracy: 0.7289\n"
          ]
        }
      ]
    },
    {
      "cell_type": "markdown",
      "metadata": {
        "id": "U3PZasO0006Z",
        "colab_type": "text"
      },
      "source": [
        "## Part 4 - Making a single prediction"
      ]
    },
    {
      "cell_type": "code",
      "execution_count": 15,
      "metadata": {},
      "outputs": [
        {
          "output_type": "execute_result",
          "data": {
            "text/plain": [
              "{'happy': 0, 'neutral': 1, 'sad': 2}"
            ]
          },
          "metadata": {},
          "execution_count": 15
        }
      ],
      "source": [
        "training_set.class_indices"
      ]
    },
    {
      "cell_type": "code",
      "metadata": {
        "id": "gsSiWEJY1BPB",
        "colab_type": "code",
        "colab": {}
      },
      "source": [
        "import numpy as np\n",
        "from keras.preprocessing import image\n",
        "test_image = image.load_img('dataset3\\single_prediction\\Adam_Rich_0001.jpg', target_size = (48, 48))\n",
        "test_image = image.img_to_array(test_image)\n",
        "test_image = np.expand_dims(test_image, axis = 0)\n",
        "result = cnn.predict(test_image)\n",
        "\n",
        "if result[0][0] == 1:\n",
        "  prediction = 'neutral'\n",
        "elif result[0][0] == 2:\n",
        "  prediction = 'sad'\n",
        "else:\n",
        "  prediction = 'happy'"
      ],
      "execution_count": 29,
      "outputs": []
    },
    {
      "cell_type": "code",
      "metadata": {
        "id": "ED9KB3I54c1i",
        "colab_type": "code",
        "colab": {}
      },
      "source": [
        "print(prediction)"
      ],
      "execution_count": 30,
      "outputs": [
        {
          "output_type": "stream",
          "name": "stdout",
          "text": [
            "happy\n"
          ]
        }
      ]
    },
    {
      "cell_type": "code",
      "execution_count": 22,
      "metadata": {},
      "outputs": [],
      "source": [
        "cnn.save('model.hdf5')"
      ]
    },
    {
      "cell_type": "code",
      "execution_count": 26,
      "metadata": {},
      "outputs": [
        {
          "output_type": "stream",
          "name": "stdout",
          "text": [
            "dict_keys(['loss', 'accuracy', 'val_loss', 'val_accuracy'])\n"
          ]
        },
        {
          "output_type": "display_data",
          "data": {
            "text/plain": "<Figure size 432x288 with 1 Axes>",
            "image/svg+xml": "<?xml version=\"1.0\" encoding=\"utf-8\" standalone=\"no\"?>\r\n<!DOCTYPE svg PUBLIC \"-//W3C//DTD SVG 1.1//EN\"\r\n  \"http://www.w3.org/Graphics/SVG/1.1/DTD/svg11.dtd\">\r\n<!-- Created with matplotlib (https://matplotlib.org/) -->\r\n<svg height=\"277.314375pt\" version=\"1.1\" viewBox=\"0 0 385.78125 277.314375\" width=\"385.78125pt\" xmlns=\"http://www.w3.org/2000/svg\" xmlns:xlink=\"http://www.w3.org/1999/xlink\">\r\n <metadata>\r\n  <rdf:RDF xmlns:cc=\"http://creativecommons.org/ns#\" xmlns:dc=\"http://purl.org/dc/elements/1.1/\" xmlns:rdf=\"http://www.w3.org/1999/02/22-rdf-syntax-ns#\">\r\n   <cc:Work>\r\n    <dc:type rdf:resource=\"http://purl.org/dc/dcmitype/StillImage\"/>\r\n    <dc:date>2020-12-10T11:45:20.699492</dc:date>\r\n    <dc:format>image/svg+xml</dc:format>\r\n    <dc:creator>\r\n     <cc:Agent>\r\n      <dc:title>Matplotlib v3.3.2, https://matplotlib.org/</dc:title>\r\n     </cc:Agent>\r\n    </dc:creator>\r\n   </cc:Work>\r\n  </rdf:RDF>\r\n </metadata>\r\n <defs>\r\n  <style type=\"text/css\">*{stroke-linecap:butt;stroke-linejoin:round;}</style>\r\n </defs>\r\n <g id=\"figure_1\">\r\n  <g id=\"patch_1\">\r\n   <path d=\"M 0 277.314375 \r\nL 385.78125 277.314375 \r\nL 385.78125 0 \r\nL 0 0 \r\nz\r\n\" style=\"fill:none;\"/>\r\n  </g>\r\n  <g id=\"axes_1\">\r\n   <g id=\"patch_2\">\r\n    <path d=\"M 43.78125 239.758125 \r\nL 378.58125 239.758125 \r\nL 378.58125 22.318125 \r\nL 43.78125 22.318125 \r\nz\r\n\" style=\"fill:#ffffff;\"/>\r\n   </g>\r\n   <g id=\"matplotlib.axis_1\">\r\n    <g id=\"xtick_1\">\r\n     <g id=\"line2d_1\">\r\n      <defs>\r\n       <path d=\"M 0 0 \r\nL 0 3.5 \r\n\" id=\"mbe85c8e9fd\" style=\"stroke:#000000;stroke-width:0.8;\"/>\r\n      </defs>\r\n      <g>\r\n       <use style=\"stroke:#000000;stroke-width:0.8;\" x=\"58.999432\" xlink:href=\"#mbe85c8e9fd\" y=\"239.758125\"/>\r\n      </g>\r\n     </g>\r\n     <g id=\"text_1\">\r\n      <!-- 0 -->\r\n      <g transform=\"translate(55.818182 254.356562)scale(0.1 -0.1)\">\r\n       <defs>\r\n        <path d=\"M 31.78125 66.40625 \r\nQ 24.171875 66.40625 20.328125 58.90625 \r\nQ 16.5 51.421875 16.5 36.375 \r\nQ 16.5 21.390625 20.328125 13.890625 \r\nQ 24.171875 6.390625 31.78125 6.390625 \r\nQ 39.453125 6.390625 43.28125 13.890625 \r\nQ 47.125 21.390625 47.125 36.375 \r\nQ 47.125 51.421875 43.28125 58.90625 \r\nQ 39.453125 66.40625 31.78125 66.40625 \r\nz\r\nM 31.78125 74.21875 \r\nQ 44.046875 74.21875 50.515625 64.515625 \r\nQ 56.984375 54.828125 56.984375 36.375 \r\nQ 56.984375 17.96875 50.515625 8.265625 \r\nQ 44.046875 -1.421875 31.78125 -1.421875 \r\nQ 19.53125 -1.421875 13.0625 8.265625 \r\nQ 6.59375 17.96875 6.59375 36.375 \r\nQ 6.59375 54.828125 13.0625 64.515625 \r\nQ 19.53125 74.21875 31.78125 74.21875 \r\nz\r\n\" id=\"DejaVuSans-48\"/>\r\n       </defs>\r\n       <use xlink:href=\"#DejaVuSans-48\"/>\r\n      </g>\r\n     </g>\r\n    </g>\r\n    <g id=\"xtick_2\">\r\n     <g id=\"line2d_2\">\r\n      <g>\r\n       <use style=\"stroke:#000000;stroke-width:0.8;\" x=\"120.487035\" xlink:href=\"#mbe85c8e9fd\" y=\"239.758125\"/>\r\n      </g>\r\n     </g>\r\n     <g id=\"text_2\">\r\n      <!-- 20 -->\r\n      <g transform=\"translate(114.124535 254.356562)scale(0.1 -0.1)\">\r\n       <defs>\r\n        <path d=\"M 19.1875 8.296875 \r\nL 53.609375 8.296875 \r\nL 53.609375 0 \r\nL 7.328125 0 \r\nL 7.328125 8.296875 \r\nQ 12.9375 14.109375 22.625 23.890625 \r\nQ 32.328125 33.6875 34.8125 36.53125 \r\nQ 39.546875 41.84375 41.421875 45.53125 \r\nQ 43.3125 49.21875 43.3125 52.78125 \r\nQ 43.3125 58.59375 39.234375 62.25 \r\nQ 35.15625 65.921875 28.609375 65.921875 \r\nQ 23.96875 65.921875 18.8125 64.3125 \r\nQ 13.671875 62.703125 7.8125 59.421875 \r\nL 7.8125 69.390625 \r\nQ 13.765625 71.78125 18.9375 73 \r\nQ 24.125 74.21875 28.421875 74.21875 \r\nQ 39.75 74.21875 46.484375 68.546875 \r\nQ 53.21875 62.890625 53.21875 53.421875 \r\nQ 53.21875 48.921875 51.53125 44.890625 \r\nQ 49.859375 40.875 45.40625 35.40625 \r\nQ 44.1875 33.984375 37.640625 27.21875 \r\nQ 31.109375 20.453125 19.1875 8.296875 \r\nz\r\n\" id=\"DejaVuSans-50\"/>\r\n       </defs>\r\n       <use xlink:href=\"#DejaVuSans-50\"/>\r\n       <use x=\"63.623047\" xlink:href=\"#DejaVuSans-48\"/>\r\n      </g>\r\n     </g>\r\n    </g>\r\n    <g id=\"xtick_3\">\r\n     <g id=\"line2d_3\">\r\n      <g>\r\n       <use style=\"stroke:#000000;stroke-width:0.8;\" x=\"181.974638\" xlink:href=\"#mbe85c8e9fd\" y=\"239.758125\"/>\r\n      </g>\r\n     </g>\r\n     <g id=\"text_3\">\r\n      <!-- 40 -->\r\n      <g transform=\"translate(175.612138 254.356562)scale(0.1 -0.1)\">\r\n       <defs>\r\n        <path d=\"M 37.796875 64.3125 \r\nL 12.890625 25.390625 \r\nL 37.796875 25.390625 \r\nz\r\nM 35.203125 72.90625 \r\nL 47.609375 72.90625 \r\nL 47.609375 25.390625 \r\nL 58.015625 25.390625 \r\nL 58.015625 17.1875 \r\nL 47.609375 17.1875 \r\nL 47.609375 0 \r\nL 37.796875 0 \r\nL 37.796875 17.1875 \r\nL 4.890625 17.1875 \r\nL 4.890625 26.703125 \r\nz\r\n\" id=\"DejaVuSans-52\"/>\r\n       </defs>\r\n       <use xlink:href=\"#DejaVuSans-52\"/>\r\n       <use x=\"63.623047\" xlink:href=\"#DejaVuSans-48\"/>\r\n      </g>\r\n     </g>\r\n    </g>\r\n    <g id=\"xtick_4\">\r\n     <g id=\"line2d_4\">\r\n      <g>\r\n       <use style=\"stroke:#000000;stroke-width:0.8;\" x=\"243.462242\" xlink:href=\"#mbe85c8e9fd\" y=\"239.758125\"/>\r\n      </g>\r\n     </g>\r\n     <g id=\"text_4\">\r\n      <!-- 60 -->\r\n      <g transform=\"translate(237.099742 254.356562)scale(0.1 -0.1)\">\r\n       <defs>\r\n        <path d=\"M 33.015625 40.375 \r\nQ 26.375 40.375 22.484375 35.828125 \r\nQ 18.609375 31.296875 18.609375 23.390625 \r\nQ 18.609375 15.53125 22.484375 10.953125 \r\nQ 26.375 6.390625 33.015625 6.390625 \r\nQ 39.65625 6.390625 43.53125 10.953125 \r\nQ 47.40625 15.53125 47.40625 23.390625 \r\nQ 47.40625 31.296875 43.53125 35.828125 \r\nQ 39.65625 40.375 33.015625 40.375 \r\nz\r\nM 52.59375 71.296875 \r\nL 52.59375 62.3125 \r\nQ 48.875 64.0625 45.09375 64.984375 \r\nQ 41.3125 65.921875 37.59375 65.921875 \r\nQ 27.828125 65.921875 22.671875 59.328125 \r\nQ 17.53125 52.734375 16.796875 39.40625 \r\nQ 19.671875 43.65625 24.015625 45.921875 \r\nQ 28.375 48.1875 33.59375 48.1875 \r\nQ 44.578125 48.1875 50.953125 41.515625 \r\nQ 57.328125 34.859375 57.328125 23.390625 \r\nQ 57.328125 12.15625 50.6875 5.359375 \r\nQ 44.046875 -1.421875 33.015625 -1.421875 \r\nQ 20.359375 -1.421875 13.671875 8.265625 \r\nQ 6.984375 17.96875 6.984375 36.375 \r\nQ 6.984375 53.65625 15.1875 63.9375 \r\nQ 23.390625 74.21875 37.203125 74.21875 \r\nQ 40.921875 74.21875 44.703125 73.484375 \r\nQ 48.484375 72.75 52.59375 71.296875 \r\nz\r\n\" id=\"DejaVuSans-54\"/>\r\n       </defs>\r\n       <use xlink:href=\"#DejaVuSans-54\"/>\r\n       <use x=\"63.623047\" xlink:href=\"#DejaVuSans-48\"/>\r\n      </g>\r\n     </g>\r\n    </g>\r\n    <g id=\"xtick_5\">\r\n     <g id=\"line2d_5\">\r\n      <g>\r\n       <use style=\"stroke:#000000;stroke-width:0.8;\" x=\"304.949845\" xlink:href=\"#mbe85c8e9fd\" y=\"239.758125\"/>\r\n      </g>\r\n     </g>\r\n     <g id=\"text_5\">\r\n      <!-- 80 -->\r\n      <g transform=\"translate(298.587345 254.356562)scale(0.1 -0.1)\">\r\n       <defs>\r\n        <path d=\"M 31.78125 34.625 \r\nQ 24.75 34.625 20.71875 30.859375 \r\nQ 16.703125 27.09375 16.703125 20.515625 \r\nQ 16.703125 13.921875 20.71875 10.15625 \r\nQ 24.75 6.390625 31.78125 6.390625 \r\nQ 38.8125 6.390625 42.859375 10.171875 \r\nQ 46.921875 13.96875 46.921875 20.515625 \r\nQ 46.921875 27.09375 42.890625 30.859375 \r\nQ 38.875 34.625 31.78125 34.625 \r\nz\r\nM 21.921875 38.8125 \r\nQ 15.578125 40.375 12.03125 44.71875 \r\nQ 8.5 49.078125 8.5 55.328125 \r\nQ 8.5 64.0625 14.71875 69.140625 \r\nQ 20.953125 74.21875 31.78125 74.21875 \r\nQ 42.671875 74.21875 48.875 69.140625 \r\nQ 55.078125 64.0625 55.078125 55.328125 \r\nQ 55.078125 49.078125 51.53125 44.71875 \r\nQ 48 40.375 41.703125 38.8125 \r\nQ 48.828125 37.15625 52.796875 32.3125 \r\nQ 56.78125 27.484375 56.78125 20.515625 \r\nQ 56.78125 9.90625 50.3125 4.234375 \r\nQ 43.84375 -1.421875 31.78125 -1.421875 \r\nQ 19.734375 -1.421875 13.25 4.234375 \r\nQ 6.78125 9.90625 6.78125 20.515625 \r\nQ 6.78125 27.484375 10.78125 32.3125 \r\nQ 14.796875 37.15625 21.921875 38.8125 \r\nz\r\nM 18.3125 54.390625 \r\nQ 18.3125 48.734375 21.84375 45.5625 \r\nQ 25.390625 42.390625 31.78125 42.390625 \r\nQ 38.140625 42.390625 41.71875 45.5625 \r\nQ 45.3125 48.734375 45.3125 54.390625 \r\nQ 45.3125 60.0625 41.71875 63.234375 \r\nQ 38.140625 66.40625 31.78125 66.40625 \r\nQ 25.390625 66.40625 21.84375 63.234375 \r\nQ 18.3125 60.0625 18.3125 54.390625 \r\nz\r\n\" id=\"DejaVuSans-56\"/>\r\n       </defs>\r\n       <use xlink:href=\"#DejaVuSans-56\"/>\r\n       <use x=\"63.623047\" xlink:href=\"#DejaVuSans-48\"/>\r\n      </g>\r\n     </g>\r\n    </g>\r\n    <g id=\"xtick_6\">\r\n     <g id=\"line2d_6\">\r\n      <g>\r\n       <use style=\"stroke:#000000;stroke-width:0.8;\" x=\"366.437448\" xlink:href=\"#mbe85c8e9fd\" y=\"239.758125\"/>\r\n      </g>\r\n     </g>\r\n     <g id=\"text_6\">\r\n      <!-- 100 -->\r\n      <g transform=\"translate(356.893698 254.356562)scale(0.1 -0.1)\">\r\n       <defs>\r\n        <path d=\"M 12.40625 8.296875 \r\nL 28.515625 8.296875 \r\nL 28.515625 63.921875 \r\nL 10.984375 60.40625 \r\nL 10.984375 69.390625 \r\nL 28.421875 72.90625 \r\nL 38.28125 72.90625 \r\nL 38.28125 8.296875 \r\nL 54.390625 8.296875 \r\nL 54.390625 0 \r\nL 12.40625 0 \r\nz\r\n\" id=\"DejaVuSans-49\"/>\r\n       </defs>\r\n       <use xlink:href=\"#DejaVuSans-49\"/>\r\n       <use x=\"63.623047\" xlink:href=\"#DejaVuSans-48\"/>\r\n       <use x=\"127.246094\" xlink:href=\"#DejaVuSans-48\"/>\r\n      </g>\r\n     </g>\r\n    </g>\r\n    <g id=\"text_7\">\r\n     <!-- epoch -->\r\n     <g transform=\"translate(195.953125 268.034687)scale(0.1 -0.1)\">\r\n      <defs>\r\n       <path d=\"M 56.203125 29.59375 \r\nL 56.203125 25.203125 \r\nL 14.890625 25.203125 \r\nQ 15.484375 15.921875 20.484375 11.0625 \r\nQ 25.484375 6.203125 34.421875 6.203125 \r\nQ 39.59375 6.203125 44.453125 7.46875 \r\nQ 49.3125 8.734375 54.109375 11.28125 \r\nL 54.109375 2.78125 \r\nQ 49.265625 0.734375 44.1875 -0.34375 \r\nQ 39.109375 -1.421875 33.890625 -1.421875 \r\nQ 20.796875 -1.421875 13.15625 6.1875 \r\nQ 5.515625 13.8125 5.515625 26.8125 \r\nQ 5.515625 40.234375 12.765625 48.109375 \r\nQ 20.015625 56 32.328125 56 \r\nQ 43.359375 56 49.78125 48.890625 \r\nQ 56.203125 41.796875 56.203125 29.59375 \r\nz\r\nM 47.21875 32.234375 \r\nQ 47.125 39.59375 43.09375 43.984375 \r\nQ 39.0625 48.390625 32.421875 48.390625 \r\nQ 24.90625 48.390625 20.390625 44.140625 \r\nQ 15.875 39.890625 15.1875 32.171875 \r\nz\r\n\" id=\"DejaVuSans-101\"/>\r\n       <path d=\"M 18.109375 8.203125 \r\nL 18.109375 -20.796875 \r\nL 9.078125 -20.796875 \r\nL 9.078125 54.6875 \r\nL 18.109375 54.6875 \r\nL 18.109375 46.390625 \r\nQ 20.953125 51.265625 25.265625 53.625 \r\nQ 29.59375 56 35.59375 56 \r\nQ 45.5625 56 51.78125 48.09375 \r\nQ 58.015625 40.1875 58.015625 27.296875 \r\nQ 58.015625 14.40625 51.78125 6.484375 \r\nQ 45.5625 -1.421875 35.59375 -1.421875 \r\nQ 29.59375 -1.421875 25.265625 0.953125 \r\nQ 20.953125 3.328125 18.109375 8.203125 \r\nz\r\nM 48.6875 27.296875 \r\nQ 48.6875 37.203125 44.609375 42.84375 \r\nQ 40.53125 48.484375 33.40625 48.484375 \r\nQ 26.265625 48.484375 22.1875 42.84375 \r\nQ 18.109375 37.203125 18.109375 27.296875 \r\nQ 18.109375 17.390625 22.1875 11.75 \r\nQ 26.265625 6.109375 33.40625 6.109375 \r\nQ 40.53125 6.109375 44.609375 11.75 \r\nQ 48.6875 17.390625 48.6875 27.296875 \r\nz\r\n\" id=\"DejaVuSans-112\"/>\r\n       <path d=\"M 30.609375 48.390625 \r\nQ 23.390625 48.390625 19.1875 42.75 \r\nQ 14.984375 37.109375 14.984375 27.296875 \r\nQ 14.984375 17.484375 19.15625 11.84375 \r\nQ 23.34375 6.203125 30.609375 6.203125 \r\nQ 37.796875 6.203125 41.984375 11.859375 \r\nQ 46.1875 17.53125 46.1875 27.296875 \r\nQ 46.1875 37.015625 41.984375 42.703125 \r\nQ 37.796875 48.390625 30.609375 48.390625 \r\nz\r\nM 30.609375 56 \r\nQ 42.328125 56 49.015625 48.375 \r\nQ 55.71875 40.765625 55.71875 27.296875 \r\nQ 55.71875 13.875 49.015625 6.21875 \r\nQ 42.328125 -1.421875 30.609375 -1.421875 \r\nQ 18.84375 -1.421875 12.171875 6.21875 \r\nQ 5.515625 13.875 5.515625 27.296875 \r\nQ 5.515625 40.765625 12.171875 48.375 \r\nQ 18.84375 56 30.609375 56 \r\nz\r\n\" id=\"DejaVuSans-111\"/>\r\n       <path d=\"M 48.78125 52.59375 \r\nL 48.78125 44.1875 \r\nQ 44.96875 46.296875 41.140625 47.34375 \r\nQ 37.3125 48.390625 33.40625 48.390625 \r\nQ 24.65625 48.390625 19.8125 42.84375 \r\nQ 14.984375 37.3125 14.984375 27.296875 \r\nQ 14.984375 17.28125 19.8125 11.734375 \r\nQ 24.65625 6.203125 33.40625 6.203125 \r\nQ 37.3125 6.203125 41.140625 7.25 \r\nQ 44.96875 8.296875 48.78125 10.40625 \r\nL 48.78125 2.09375 \r\nQ 45.015625 0.34375 40.984375 -0.53125 \r\nQ 36.96875 -1.421875 32.421875 -1.421875 \r\nQ 20.0625 -1.421875 12.78125 6.34375 \r\nQ 5.515625 14.109375 5.515625 27.296875 \r\nQ 5.515625 40.671875 12.859375 48.328125 \r\nQ 20.21875 56 33.015625 56 \r\nQ 37.15625 56 41.109375 55.140625 \r\nQ 45.0625 54.296875 48.78125 52.59375 \r\nz\r\n\" id=\"DejaVuSans-99\"/>\r\n       <path d=\"M 54.890625 33.015625 \r\nL 54.890625 0 \r\nL 45.90625 0 \r\nL 45.90625 32.71875 \r\nQ 45.90625 40.484375 42.875 44.328125 \r\nQ 39.84375 48.1875 33.796875 48.1875 \r\nQ 26.515625 48.1875 22.3125 43.546875 \r\nQ 18.109375 38.921875 18.109375 30.90625 \r\nL 18.109375 0 \r\nL 9.078125 0 \r\nL 9.078125 75.984375 \r\nL 18.109375 75.984375 \r\nL 18.109375 46.1875 \r\nQ 21.34375 51.125 25.703125 53.5625 \r\nQ 30.078125 56 35.796875 56 \r\nQ 45.21875 56 50.046875 50.171875 \r\nQ 54.890625 44.34375 54.890625 33.015625 \r\nz\r\n\" id=\"DejaVuSans-104\"/>\r\n      </defs>\r\n      <use xlink:href=\"#DejaVuSans-101\"/>\r\n      <use x=\"61.523438\" xlink:href=\"#DejaVuSans-112\"/>\r\n      <use x=\"125\" xlink:href=\"#DejaVuSans-111\"/>\r\n      <use x=\"186.181641\" xlink:href=\"#DejaVuSans-99\"/>\r\n      <use x=\"241.162109\" xlink:href=\"#DejaVuSans-104\"/>\r\n     </g>\r\n    </g>\r\n   </g>\r\n   <g id=\"matplotlib.axis_2\">\r\n    <g id=\"ytick_1\">\r\n     <g id=\"line2d_7\">\r\n      <defs>\r\n       <path d=\"M 0 0 \r\nL -3.5 0 \r\n\" id=\"m9eece5cdc7\" style=\"stroke:#000000;stroke-width:0.8;\"/>\r\n      </defs>\r\n      <g>\r\n       <use style=\"stroke:#000000;stroke-width:0.8;\" x=\"43.78125\" xlink:href=\"#m9eece5cdc7\" y=\"230.03426\"/>\r\n      </g>\r\n     </g>\r\n     <g id=\"text_8\">\r\n      <!-- 0.4 -->\r\n      <g transform=\"translate(20.878125 233.833479)scale(0.1 -0.1)\">\r\n       <defs>\r\n        <path d=\"M 10.6875 12.40625 \r\nL 21 12.40625 \r\nL 21 0 \r\nL 10.6875 0 \r\nz\r\n\" id=\"DejaVuSans-46\"/>\r\n       </defs>\r\n       <use xlink:href=\"#DejaVuSans-48\"/>\r\n       <use x=\"63.623047\" xlink:href=\"#DejaVuSans-46\"/>\r\n       <use x=\"95.410156\" xlink:href=\"#DejaVuSans-52\"/>\r\n      </g>\r\n     </g>\r\n    </g>\r\n    <g id=\"ytick_2\">\r\n     <g id=\"line2d_8\">\r\n      <g>\r\n       <use style=\"stroke:#000000;stroke-width:0.8;\" x=\"43.78125\" xlink:href=\"#m9eece5cdc7\" y=\"199.705041\"/>\r\n      </g>\r\n     </g>\r\n     <g id=\"text_9\">\r\n      <!-- 0.5 -->\r\n      <g transform=\"translate(20.878125 203.50426)scale(0.1 -0.1)\">\r\n       <defs>\r\n        <path d=\"M 10.796875 72.90625 \r\nL 49.515625 72.90625 \r\nL 49.515625 64.59375 \r\nL 19.828125 64.59375 \r\nL 19.828125 46.734375 \r\nQ 21.96875 47.46875 24.109375 47.828125 \r\nQ 26.265625 48.1875 28.421875 48.1875 \r\nQ 40.625 48.1875 47.75 41.5 \r\nQ 54.890625 34.8125 54.890625 23.390625 \r\nQ 54.890625 11.625 47.5625 5.09375 \r\nQ 40.234375 -1.421875 26.90625 -1.421875 \r\nQ 22.3125 -1.421875 17.546875 -0.640625 \r\nQ 12.796875 0.140625 7.71875 1.703125 \r\nL 7.71875 11.625 \r\nQ 12.109375 9.234375 16.796875 8.0625 \r\nQ 21.484375 6.890625 26.703125 6.890625 \r\nQ 35.15625 6.890625 40.078125 11.328125 \r\nQ 45.015625 15.765625 45.015625 23.390625 \r\nQ 45.015625 31 40.078125 35.4375 \r\nQ 35.15625 39.890625 26.703125 39.890625 \r\nQ 22.75 39.890625 18.8125 39.015625 \r\nQ 14.890625 38.140625 10.796875 36.28125 \r\nz\r\n\" id=\"DejaVuSans-53\"/>\r\n       </defs>\r\n       <use xlink:href=\"#DejaVuSans-48\"/>\r\n       <use x=\"63.623047\" xlink:href=\"#DejaVuSans-46\"/>\r\n       <use x=\"95.410156\" xlink:href=\"#DejaVuSans-53\"/>\r\n      </g>\r\n     </g>\r\n    </g>\r\n    <g id=\"ytick_3\">\r\n     <g id=\"line2d_9\">\r\n      <g>\r\n       <use style=\"stroke:#000000;stroke-width:0.8;\" x=\"43.78125\" xlink:href=\"#m9eece5cdc7\" y=\"169.375822\"/>\r\n      </g>\r\n     </g>\r\n     <g id=\"text_10\">\r\n      <!-- 0.6 -->\r\n      <g transform=\"translate(20.878125 173.175041)scale(0.1 -0.1)\">\r\n       <use xlink:href=\"#DejaVuSans-48\"/>\r\n       <use x=\"63.623047\" xlink:href=\"#DejaVuSans-46\"/>\r\n       <use x=\"95.410156\" xlink:href=\"#DejaVuSans-54\"/>\r\n      </g>\r\n     </g>\r\n    </g>\r\n    <g id=\"ytick_4\">\r\n     <g id=\"line2d_10\">\r\n      <g>\r\n       <use style=\"stroke:#000000;stroke-width:0.8;\" x=\"43.78125\" xlink:href=\"#m9eece5cdc7\" y=\"139.046603\"/>\r\n      </g>\r\n     </g>\r\n     <g id=\"text_11\">\r\n      <!-- 0.7 -->\r\n      <g transform=\"translate(20.878125 142.845822)scale(0.1 -0.1)\">\r\n       <defs>\r\n        <path d=\"M 8.203125 72.90625 \r\nL 55.078125 72.90625 \r\nL 55.078125 68.703125 \r\nL 28.609375 0 \r\nL 18.3125 0 \r\nL 43.21875 64.59375 \r\nL 8.203125 64.59375 \r\nz\r\n\" id=\"DejaVuSans-55\"/>\r\n       </defs>\r\n       <use xlink:href=\"#DejaVuSans-48\"/>\r\n       <use x=\"63.623047\" xlink:href=\"#DejaVuSans-46\"/>\r\n       <use x=\"95.410156\" xlink:href=\"#DejaVuSans-55\"/>\r\n      </g>\r\n     </g>\r\n    </g>\r\n    <g id=\"ytick_5\">\r\n     <g id=\"line2d_11\">\r\n      <g>\r\n       <use style=\"stroke:#000000;stroke-width:0.8;\" x=\"43.78125\" xlink:href=\"#m9eece5cdc7\" y=\"108.717384\"/>\r\n      </g>\r\n     </g>\r\n     <g id=\"text_12\">\r\n      <!-- 0.8 -->\r\n      <g transform=\"translate(20.878125 112.516603)scale(0.1 -0.1)\">\r\n       <use xlink:href=\"#DejaVuSans-48\"/>\r\n       <use x=\"63.623047\" xlink:href=\"#DejaVuSans-46\"/>\r\n       <use x=\"95.410156\" xlink:href=\"#DejaVuSans-56\"/>\r\n      </g>\r\n     </g>\r\n    </g>\r\n    <g id=\"ytick_6\">\r\n     <g id=\"line2d_12\">\r\n      <g>\r\n       <use style=\"stroke:#000000;stroke-width:0.8;\" x=\"43.78125\" xlink:href=\"#m9eece5cdc7\" y=\"78.388165\"/>\r\n      </g>\r\n     </g>\r\n     <g id=\"text_13\">\r\n      <!-- 0.9 -->\r\n      <g transform=\"translate(20.878125 82.187384)scale(0.1 -0.1)\">\r\n       <defs>\r\n        <path d=\"M 10.984375 1.515625 \r\nL 10.984375 10.5 \r\nQ 14.703125 8.734375 18.5 7.8125 \r\nQ 22.3125 6.890625 25.984375 6.890625 \r\nQ 35.75 6.890625 40.890625 13.453125 \r\nQ 46.046875 20.015625 46.78125 33.40625 \r\nQ 43.953125 29.203125 39.59375 26.953125 \r\nQ 35.25 24.703125 29.984375 24.703125 \r\nQ 19.046875 24.703125 12.671875 31.3125 \r\nQ 6.296875 37.9375 6.296875 49.421875 \r\nQ 6.296875 60.640625 12.9375 67.421875 \r\nQ 19.578125 74.21875 30.609375 74.21875 \r\nQ 43.265625 74.21875 49.921875 64.515625 \r\nQ 56.59375 54.828125 56.59375 36.375 \r\nQ 56.59375 19.140625 48.40625 8.859375 \r\nQ 40.234375 -1.421875 26.421875 -1.421875 \r\nQ 22.703125 -1.421875 18.890625 -0.6875 \r\nQ 15.09375 0.046875 10.984375 1.515625 \r\nz\r\nM 30.609375 32.421875 \r\nQ 37.25 32.421875 41.125 36.953125 \r\nQ 45.015625 41.5 45.015625 49.421875 \r\nQ 45.015625 57.28125 41.125 61.84375 \r\nQ 37.25 66.40625 30.609375 66.40625 \r\nQ 23.96875 66.40625 20.09375 61.84375 \r\nQ 16.21875 57.28125 16.21875 49.421875 \r\nQ 16.21875 41.5 20.09375 36.953125 \r\nQ 23.96875 32.421875 30.609375 32.421875 \r\nz\r\n\" id=\"DejaVuSans-57\"/>\r\n       </defs>\r\n       <use xlink:href=\"#DejaVuSans-48\"/>\r\n       <use x=\"63.623047\" xlink:href=\"#DejaVuSans-46\"/>\r\n       <use x=\"95.410156\" xlink:href=\"#DejaVuSans-57\"/>\r\n      </g>\r\n     </g>\r\n    </g>\r\n    <g id=\"ytick_7\">\r\n     <g id=\"line2d_13\">\r\n      <g>\r\n       <use style=\"stroke:#000000;stroke-width:0.8;\" x=\"43.78125\" xlink:href=\"#m9eece5cdc7\" y=\"48.058946\"/>\r\n      </g>\r\n     </g>\r\n     <g id=\"text_14\">\r\n      <!-- 1.0 -->\r\n      <g transform=\"translate(20.878125 51.858165)scale(0.1 -0.1)\">\r\n       <use xlink:href=\"#DejaVuSans-49\"/>\r\n       <use x=\"63.623047\" xlink:href=\"#DejaVuSans-46\"/>\r\n       <use x=\"95.410156\" xlink:href=\"#DejaVuSans-48\"/>\r\n      </g>\r\n     </g>\r\n    </g>\r\n    <g id=\"text_15\">\r\n     <!-- loss -->\r\n     <g transform=\"translate(14.798438 140.695937)rotate(-90)scale(0.1 -0.1)\">\r\n      <defs>\r\n       <path d=\"M 9.421875 75.984375 \r\nL 18.40625 75.984375 \r\nL 18.40625 0 \r\nL 9.421875 0 \r\nz\r\n\" id=\"DejaVuSans-108\"/>\r\n       <path d=\"M 44.28125 53.078125 \r\nL 44.28125 44.578125 \r\nQ 40.484375 46.53125 36.375 47.5 \r\nQ 32.28125 48.484375 27.875 48.484375 \r\nQ 21.1875 48.484375 17.84375 46.4375 \r\nQ 14.5 44.390625 14.5 40.28125 \r\nQ 14.5 37.15625 16.890625 35.375 \r\nQ 19.28125 33.59375 26.515625 31.984375 \r\nL 29.59375 31.296875 \r\nQ 39.15625 29.25 43.1875 25.515625 \r\nQ 47.21875 21.78125 47.21875 15.09375 \r\nQ 47.21875 7.46875 41.1875 3.015625 \r\nQ 35.15625 -1.421875 24.609375 -1.421875 \r\nQ 20.21875 -1.421875 15.453125 -0.5625 \r\nQ 10.6875 0.296875 5.421875 2 \r\nL 5.421875 11.28125 \r\nQ 10.40625 8.6875 15.234375 7.390625 \r\nQ 20.0625 6.109375 24.8125 6.109375 \r\nQ 31.15625 6.109375 34.5625 8.28125 \r\nQ 37.984375 10.453125 37.984375 14.40625 \r\nQ 37.984375 18.0625 35.515625 20.015625 \r\nQ 33.0625 21.96875 24.703125 23.78125 \r\nL 21.578125 24.515625 \r\nQ 13.234375 26.265625 9.515625 29.90625 \r\nQ 5.8125 33.546875 5.8125 39.890625 \r\nQ 5.8125 47.609375 11.28125 51.796875 \r\nQ 16.75 56 26.8125 56 \r\nQ 31.78125 56 36.171875 55.265625 \r\nQ 40.578125 54.546875 44.28125 53.078125 \r\nz\r\n\" id=\"DejaVuSans-115\"/>\r\n      </defs>\r\n      <use xlink:href=\"#DejaVuSans-108\"/>\r\n      <use x=\"27.783203\" xlink:href=\"#DejaVuSans-111\"/>\r\n      <use x=\"88.964844\" xlink:href=\"#DejaVuSans-115\"/>\r\n      <use x=\"141.064453\" xlink:href=\"#DejaVuSans-115\"/>\r\n     </g>\r\n    </g>\r\n   </g>\r\n   <g id=\"line2d_14\">\r\n    <path clip-path=\"url(#pdf9dbaa34c)\" d=\"M 58.999432 32.201761 \r\nL 62.073812 67.825345 \r\nL 65.148192 87.053266 \r\nL 68.222572 98.304055 \r\nL 71.296952 110.659261 \r\nL 74.371333 118.962458 \r\nL 77.445713 125.337315 \r\nL 80.520093 130.211151 \r\nL 83.594473 134.81149 \r\nL 86.668853 140.265726 \r\nL 89.743233 143.653328 \r\nL 92.817614 147.167726 \r\nL 95.891994 150.84025 \r\nL 98.966374 154.180488 \r\nL 102.040754 155.572013 \r\nL 105.115134 157.044327 \r\nL 108.189514 161.197408 \r\nL 111.263895 162.667155 \r\nL 114.338275 165.477068 \r\nL 117.412655 167.029285 \r\nL 120.487035 169.72117 \r\nL 123.561415 170.154581 \r\nL 126.635795 172.98682 \r\nL 129.710176 174.514904 \r\nL 132.784556 174.660447 \r\nL 135.858936 175.611257 \r\nL 138.933316 176.425202 \r\nL 142.007696 178.932243 \r\nL 145.082076 180.979661 \r\nL 148.156457 182.876835 \r\nL 151.230837 183.737475 \r\nL 154.305217 185.697884 \r\nL 157.379597 188.573546 \r\nL 160.453977 187.633998 \r\nL 163.528357 184.892273 \r\nL 166.602738 190.507725 \r\nL 169.677118 189.614004 \r\nL 172.751498 191.751556 \r\nL 175.825878 191.519385 \r\nL 178.900258 193.416107 \r\nL 181.974638 196.397216 \r\nL 185.049019 197.432522 \r\nL 188.123399 198.127281 \r\nL 191.197779 198.427188 \r\nL 194.272159 200.143614 \r\nL 197.346539 198.690995 \r\nL 200.420919 201.140793 \r\nL 203.4953 201.571068 \r\nL 206.56968 205.655002 \r\nL 209.64406 204.80539 \r\nL 212.71844 203.700142 \r\nL 215.79282 203.616045 \r\nL 218.8672 208.775661 \r\nL 221.941581 206.507895 \r\nL 225.015961 208.559199 \r\nL 228.090341 207.770174 \r\nL 231.164721 210.013047 \r\nL 234.239101 206.991056 \r\nL 237.313481 208.477145 \r\nL 240.387862 209.107927 \r\nL 243.462242 212.715299 \r\nL 246.536622 213.113386 \r\nL 249.611002 215.263313 \r\nL 252.685382 213.088819 \r\nL 255.759762 216.588855 \r\nL 258.834143 213.222684 \r\nL 261.908523 214.4123 \r\nL 264.982903 214.387316 \r\nL 268.057283 216.645166 \r\nL 271.131663 219.112563 \r\nL 274.206043 221.064025 \r\nL 277.280424 220.035661 \r\nL 280.354804 217.222014 \r\nL 283.429184 218.818332 \r\nL 286.503564 220.726344 \r\nL 289.577944 219.352354 \r\nL 292.652324 219.853194 \r\nL 295.726705 218.493667 \r\nL 298.801085 221.297642 \r\nL 301.875465 219.34816 \r\nL 304.949845 220.667157 \r\nL 308.024225 224.532949 \r\nL 311.098605 221.442398 \r\nL 314.172986 222.756217 \r\nL 317.247366 223.231224 \r\nL 320.321746 222.615292 \r\nL 323.396126 224.290446 \r\nL 326.470506 227.525211 \r\nL 329.544886 225.69374 \r\nL 332.619267 223.688534 \r\nL 335.693647 226.570053 \r\nL 338.768027 226.289036 \r\nL 341.842407 224.806888 \r\nL 344.916787 227.190251 \r\nL 347.991167 224.629194 \r\nL 351.065548 225.863272 \r\nL 354.139928 229.358345 \r\nL 357.214308 226.749229 \r\nL 360.288688 226.093373 \r\nL 363.363068 229.874489 \r\n\" style=\"fill:none;stroke:#1f77b4;stroke-linecap:square;stroke-width:1.5;\"/>\r\n   </g>\r\n   <g id=\"line2d_15\">\r\n    <path clip-path=\"url(#pdf9dbaa34c)\" d=\"M 58.999432 58.807015 \r\nL 62.073812 92.924245 \r\nL 65.148192 109.488952 \r\nL 68.222572 122.172267 \r\nL 71.296952 126.452433 \r\nL 74.371333 134.690081 \r\nL 77.445713 126.923934 \r\nL 80.520093 139.925415 \r\nL 83.594473 146.716382 \r\nL 86.668853 148.58277 \r\nL 89.743233 152.617949 \r\nL 92.817614 155.760942 \r\nL 95.891994 149.501855 \r\nL 98.966374 148.984292 \r\nL 102.040754 147.951988 \r\nL 105.115134 158.381764 \r\nL 108.189514 143.12322 \r\nL 111.263895 161.017789 \r\nL 114.338275 158.350056 \r\nL 117.412655 153.104146 \r\nL 120.487035 146.061014 \r\nL 123.561415 156.367881 \r\nL 126.635795 161.137517 \r\nL 129.710176 152.28467 \r\nL 132.784556 157.539202 \r\nL 135.858936 155.783666 \r\nL 138.933316 155.248623 \r\nL 142.007696 156.092631 \r\nL 145.082076 152.357233 \r\nL 148.156457 142.38173 \r\nL 151.230837 152.308279 \r\nL 154.305217 159.224181 \r\nL 157.379597 150.960972 \r\nL 160.453977 156.874524 \r\nL 163.528357 155.199506 \r\nL 166.602738 160.906394 \r\nL 169.677118 153.378366 \r\nL 172.751498 148.710579 \r\nL 175.825878 150.185641 \r\nL 178.900258 147.504259 \r\nL 181.974638 156.421029 \r\nL 185.049019 147.586585 \r\nL 188.123399 145.714755 \r\nL 191.197779 147.175536 \r\nL 194.272159 143.016688 \r\nL 197.346539 145.35483 \r\nL 200.420919 146.612129 \r\nL 203.4953 141.008608 \r\nL 206.56968 134.920263 \r\nL 209.64406 141.528466 \r\nL 212.71844 145.711158 \r\nL 215.79282 132.446051 \r\nL 218.8672 138.878919 \r\nL 221.941581 134.972724 \r\nL 225.015961 142.818069 \r\nL 228.090341 142.529135 \r\nL 231.164721 120.079059 \r\nL 234.239101 129.614553 \r\nL 237.313481 126.854769 \r\nL 240.387862 139.886367 \r\nL 243.462242 134.802632 \r\nL 246.536622 121.674336 \r\nL 249.611002 126.997256 \r\nL 252.685382 129.231145 \r\nL 255.759762 122.797355 \r\nL 258.834143 128.072984 \r\nL 261.908523 133.556089 \r\nL 264.982903 129.401996 \r\nL 268.057283 128.860788 \r\nL 271.131663 126.552348 \r\nL 274.206043 129.369384 \r\nL 277.280424 104.35986 \r\nL 280.354804 107.447663 \r\nL 283.429184 126.934039 \r\nL 286.503564 113.567842 \r\nL 289.577944 129.543689 \r\nL 292.652324 128.834793 \r\nL 295.726705 126.90685 \r\nL 298.801085 119.256924 \r\nL 301.875465 109.430579 \r\nL 304.949845 112.326506 \r\nL 308.024225 114.559183 \r\nL 311.098605 130.197104 \r\nL 314.172986 110.370037 \r\nL 317.247366 108.028678 \r\nL 320.321746 110.475918 \r\nL 323.396126 115.328259 \r\nL 326.470506 110.689631 \r\nL 329.544886 114.703515 \r\nL 332.619267 106.139313 \r\nL 335.693647 108.56806 \r\nL 338.768027 105.858531 \r\nL 341.842407 108.695597 \r\nL 344.916787 93.615389 \r\nL 347.991167 104.595032 \r\nL 351.065548 100.067455 \r\nL 354.139928 94.367128 \r\nL 357.214308 93.40059 \r\nL 360.288688 107.417907 \r\nL 363.363068 94.189787 \r\n\" style=\"fill:none;stroke:#ff7f0e;stroke-linecap:square;stroke-width:1.5;\"/>\r\n   </g>\r\n   <g id=\"patch_3\">\r\n    <path d=\"M 43.78125 239.758125 \r\nL 43.78125 22.318125 \r\n\" style=\"fill:none;stroke:#000000;stroke-linecap:square;stroke-linejoin:miter;stroke-width:0.8;\"/>\r\n   </g>\r\n   <g id=\"patch_4\">\r\n    <path d=\"M 378.58125 239.758125 \r\nL 378.58125 22.318125 \r\n\" style=\"fill:none;stroke:#000000;stroke-linecap:square;stroke-linejoin:miter;stroke-width:0.8;\"/>\r\n   </g>\r\n   <g id=\"patch_5\">\r\n    <path d=\"M 43.78125 239.758125 \r\nL 378.58125 239.758125 \r\n\" style=\"fill:none;stroke:#000000;stroke-linecap:square;stroke-linejoin:miter;stroke-width:0.8;\"/>\r\n   </g>\r\n   <g id=\"patch_6\">\r\n    <path d=\"M 43.78125 22.318125 \r\nL 378.58125 22.318125 \r\n\" style=\"fill:none;stroke:#000000;stroke-linecap:square;stroke-linejoin:miter;stroke-width:0.8;\"/>\r\n   </g>\r\n   <g id=\"text_16\">\r\n    <!-- model loss -->\r\n    <g transform=\"translate(179.001563 16.318125)scale(0.12 -0.12)\">\r\n     <defs>\r\n      <path d=\"M 52 44.1875 \r\nQ 55.375 50.25 60.0625 53.125 \r\nQ 64.75 56 71.09375 56 \r\nQ 79.640625 56 84.28125 50.015625 \r\nQ 88.921875 44.046875 88.921875 33.015625 \r\nL 88.921875 0 \r\nL 79.890625 0 \r\nL 79.890625 32.71875 \r\nQ 79.890625 40.578125 77.09375 44.375 \r\nQ 74.3125 48.1875 68.609375 48.1875 \r\nQ 61.625 48.1875 57.5625 43.546875 \r\nQ 53.515625 38.921875 53.515625 30.90625 \r\nL 53.515625 0 \r\nL 44.484375 0 \r\nL 44.484375 32.71875 \r\nQ 44.484375 40.625 41.703125 44.40625 \r\nQ 38.921875 48.1875 33.109375 48.1875 \r\nQ 26.21875 48.1875 22.15625 43.53125 \r\nQ 18.109375 38.875 18.109375 30.90625 \r\nL 18.109375 0 \r\nL 9.078125 0 \r\nL 9.078125 54.6875 \r\nL 18.109375 54.6875 \r\nL 18.109375 46.1875 \r\nQ 21.1875 51.21875 25.484375 53.609375 \r\nQ 29.78125 56 35.6875 56 \r\nQ 41.65625 56 45.828125 52.96875 \r\nQ 50 49.953125 52 44.1875 \r\nz\r\n\" id=\"DejaVuSans-109\"/>\r\n      <path d=\"M 45.40625 46.390625 \r\nL 45.40625 75.984375 \r\nL 54.390625 75.984375 \r\nL 54.390625 0 \r\nL 45.40625 0 \r\nL 45.40625 8.203125 \r\nQ 42.578125 3.328125 38.25 0.953125 \r\nQ 33.9375 -1.421875 27.875 -1.421875 \r\nQ 17.96875 -1.421875 11.734375 6.484375 \r\nQ 5.515625 14.40625 5.515625 27.296875 \r\nQ 5.515625 40.1875 11.734375 48.09375 \r\nQ 17.96875 56 27.875 56 \r\nQ 33.9375 56 38.25 53.625 \r\nQ 42.578125 51.265625 45.40625 46.390625 \r\nz\r\nM 14.796875 27.296875 \r\nQ 14.796875 17.390625 18.875 11.75 \r\nQ 22.953125 6.109375 30.078125 6.109375 \r\nQ 37.203125 6.109375 41.296875 11.75 \r\nQ 45.40625 17.390625 45.40625 27.296875 \r\nQ 45.40625 37.203125 41.296875 42.84375 \r\nQ 37.203125 48.484375 30.078125 48.484375 \r\nQ 22.953125 48.484375 18.875 42.84375 \r\nQ 14.796875 37.203125 14.796875 27.296875 \r\nz\r\n\" id=\"DejaVuSans-100\"/>\r\n      <path id=\"DejaVuSans-32\"/>\r\n     </defs>\r\n     <use xlink:href=\"#DejaVuSans-109\"/>\r\n     <use x=\"97.412109\" xlink:href=\"#DejaVuSans-111\"/>\r\n     <use x=\"158.59375\" xlink:href=\"#DejaVuSans-100\"/>\r\n     <use x=\"222.070312\" xlink:href=\"#DejaVuSans-101\"/>\r\n     <use x=\"283.59375\" xlink:href=\"#DejaVuSans-108\"/>\r\n     <use x=\"311.376953\" xlink:href=\"#DejaVuSans-32\"/>\r\n     <use x=\"343.164062\" xlink:href=\"#DejaVuSans-108\"/>\r\n     <use x=\"370.947266\" xlink:href=\"#DejaVuSans-111\"/>\r\n     <use x=\"432.128906\" xlink:href=\"#DejaVuSans-115\"/>\r\n     <use x=\"484.228516\" xlink:href=\"#DejaVuSans-115\"/>\r\n    </g>\r\n   </g>\r\n   <g id=\"legend_1\">\r\n    <g id=\"patch_7\">\r\n     <path d=\"M 50.78125 59.674375 \r\nL 106.05625 59.674375 \r\nQ 108.05625 59.674375 108.05625 57.674375 \r\nL 108.05625 29.318125 \r\nQ 108.05625 27.318125 106.05625 27.318125 \r\nL 50.78125 27.318125 \r\nQ 48.78125 27.318125 48.78125 29.318125 \r\nL 48.78125 57.674375 \r\nQ 48.78125 59.674375 50.78125 59.674375 \r\nz\r\n\" style=\"fill:#ffffff;opacity:0.8;stroke:#cccccc;stroke-linejoin:miter;\"/>\r\n    </g>\r\n    <g id=\"line2d_16\">\r\n     <path d=\"M 52.78125 35.416562 \r\nL 72.78125 35.416562 \r\n\" style=\"fill:none;stroke:#1f77b4;stroke-linecap:square;stroke-width:1.5;\"/>\r\n    </g>\r\n    <g id=\"line2d_17\"/>\r\n    <g id=\"text_17\">\r\n     <!-- train -->\r\n     <g transform=\"translate(80.78125 38.916562)scale(0.1 -0.1)\">\r\n      <defs>\r\n       <path d=\"M 18.3125 70.21875 \r\nL 18.3125 54.6875 \r\nL 36.8125 54.6875 \r\nL 36.8125 47.703125 \r\nL 18.3125 47.703125 \r\nL 18.3125 18.015625 \r\nQ 18.3125 11.328125 20.140625 9.421875 \r\nQ 21.96875 7.515625 27.59375 7.515625 \r\nL 36.8125 7.515625 \r\nL 36.8125 0 \r\nL 27.59375 0 \r\nQ 17.1875 0 13.234375 3.875 \r\nQ 9.28125 7.765625 9.28125 18.015625 \r\nL 9.28125 47.703125 \r\nL 2.6875 47.703125 \r\nL 2.6875 54.6875 \r\nL 9.28125 54.6875 \r\nL 9.28125 70.21875 \r\nz\r\n\" id=\"DejaVuSans-116\"/>\r\n       <path d=\"M 41.109375 46.296875 \r\nQ 39.59375 47.171875 37.8125 47.578125 \r\nQ 36.03125 48 33.890625 48 \r\nQ 26.265625 48 22.1875 43.046875 \r\nQ 18.109375 38.09375 18.109375 28.8125 \r\nL 18.109375 0 \r\nL 9.078125 0 \r\nL 9.078125 54.6875 \r\nL 18.109375 54.6875 \r\nL 18.109375 46.1875 \r\nQ 20.953125 51.171875 25.484375 53.578125 \r\nQ 30.03125 56 36.53125 56 \r\nQ 37.453125 56 38.578125 55.875 \r\nQ 39.703125 55.765625 41.0625 55.515625 \r\nz\r\n\" id=\"DejaVuSans-114\"/>\r\n       <path d=\"M 34.28125 27.484375 \r\nQ 23.390625 27.484375 19.1875 25 \r\nQ 14.984375 22.515625 14.984375 16.5 \r\nQ 14.984375 11.71875 18.140625 8.90625 \r\nQ 21.296875 6.109375 26.703125 6.109375 \r\nQ 34.1875 6.109375 38.703125 11.40625 \r\nQ 43.21875 16.703125 43.21875 25.484375 \r\nL 43.21875 27.484375 \r\nz\r\nM 52.203125 31.203125 \r\nL 52.203125 0 \r\nL 43.21875 0 \r\nL 43.21875 8.296875 \r\nQ 40.140625 3.328125 35.546875 0.953125 \r\nQ 30.953125 -1.421875 24.3125 -1.421875 \r\nQ 15.921875 -1.421875 10.953125 3.296875 \r\nQ 6 8.015625 6 15.921875 \r\nQ 6 25.140625 12.171875 29.828125 \r\nQ 18.359375 34.515625 30.609375 34.515625 \r\nL 43.21875 34.515625 \r\nL 43.21875 35.40625 \r\nQ 43.21875 41.609375 39.140625 45 \r\nQ 35.0625 48.390625 27.6875 48.390625 \r\nQ 23 48.390625 18.546875 47.265625 \r\nQ 14.109375 46.140625 10.015625 43.890625 \r\nL 10.015625 52.203125 \r\nQ 14.9375 54.109375 19.578125 55.046875 \r\nQ 24.21875 56 28.609375 56 \r\nQ 40.484375 56 46.34375 49.84375 \r\nQ 52.203125 43.703125 52.203125 31.203125 \r\nz\r\n\" id=\"DejaVuSans-97\"/>\r\n       <path d=\"M 9.421875 54.6875 \r\nL 18.40625 54.6875 \r\nL 18.40625 0 \r\nL 9.421875 0 \r\nz\r\nM 9.421875 75.984375 \r\nL 18.40625 75.984375 \r\nL 18.40625 64.59375 \r\nL 9.421875 64.59375 \r\nz\r\n\" id=\"DejaVuSans-105\"/>\r\n       <path d=\"M 54.890625 33.015625 \r\nL 54.890625 0 \r\nL 45.90625 0 \r\nL 45.90625 32.71875 \r\nQ 45.90625 40.484375 42.875 44.328125 \r\nQ 39.84375 48.1875 33.796875 48.1875 \r\nQ 26.515625 48.1875 22.3125 43.546875 \r\nQ 18.109375 38.921875 18.109375 30.90625 \r\nL 18.109375 0 \r\nL 9.078125 0 \r\nL 9.078125 54.6875 \r\nL 18.109375 54.6875 \r\nL 18.109375 46.1875 \r\nQ 21.34375 51.125 25.703125 53.5625 \r\nQ 30.078125 56 35.796875 56 \r\nQ 45.21875 56 50.046875 50.171875 \r\nQ 54.890625 44.34375 54.890625 33.015625 \r\nz\r\n\" id=\"DejaVuSans-110\"/>\r\n      </defs>\r\n      <use xlink:href=\"#DejaVuSans-116\"/>\r\n      <use x=\"39.208984\" xlink:href=\"#DejaVuSans-114\"/>\r\n      <use x=\"80.322266\" xlink:href=\"#DejaVuSans-97\"/>\r\n      <use x=\"141.601562\" xlink:href=\"#DejaVuSans-105\"/>\r\n      <use x=\"169.384766\" xlink:href=\"#DejaVuSans-110\"/>\r\n     </g>\r\n    </g>\r\n    <g id=\"line2d_18\">\r\n     <path d=\"M 52.78125 50.094687 \r\nL 72.78125 50.094687 \r\n\" style=\"fill:none;stroke:#ff7f0e;stroke-linecap:square;stroke-width:1.5;\"/>\r\n    </g>\r\n    <g id=\"line2d_19\"/>\r\n    <g id=\"text_18\">\r\n     <!-- test -->\r\n     <g transform=\"translate(80.78125 53.594687)scale(0.1 -0.1)\">\r\n      <use xlink:href=\"#DejaVuSans-116\"/>\r\n      <use x=\"39.208984\" xlink:href=\"#DejaVuSans-101\"/>\r\n      <use x=\"100.732422\" xlink:href=\"#DejaVuSans-115\"/>\r\n      <use x=\"152.832031\" xlink:href=\"#DejaVuSans-116\"/>\r\n     </g>\r\n    </g>\r\n   </g>\r\n  </g>\r\n </g>\r\n <defs>\r\n  <clipPath id=\"pdf9dbaa34c\">\r\n   <rect height=\"217.44\" width=\"334.8\" x=\"43.78125\" y=\"22.318125\"/>\r\n  </clipPath>\r\n </defs>\r\n</svg>\r\n",
            "image/png": "[encoded data removed]"
          },
          "metadata": {
            "needs_background": "light"
          }
        }
      ],
      "source": [
        "print(history.history.keys())\n",
        "\n",
        "import matplotlib.pyplot as plt\n",
        "plt.plot(history.history['loss'])\n",
        "plt.plot(history.history['val_loss'])\n",
        "plt.title('model loss')\n",
        "plt.ylabel('loss')\n",
        "plt.xlabel('epoch')\n",
        "plt.legend(['train', 'test'], loc='upper left')\n",
        "plt.show()"
      ]
    },
    {
      "cell_type": "code",
      "execution_count": null,
      "metadata": {},
      "outputs": [],
      "source": []
    }
  ]
}